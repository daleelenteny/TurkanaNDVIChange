{
 "cells": [
  {
   "cell_type": "code",
   "execution_count": 73,
   "id": "6bce72b5",
   "metadata": {},
   "outputs": [],
   "source": [
    "# Import packages \n",
    "\n",
    "import ee\n",
    "import geemap.foliumap as geemap\n",
    "import matplotlib as mpl\n",
    "import datapane as dp"
   ]
  },
  {
   "cell_type": "code",
   "execution_count": 74,
   "id": "72ac4e8d",
   "metadata": {},
   "outputs": [],
   "source": [
    "# Instantiate maps \n",
    "\n",
    "TurkanaMap = geemap.Map(center = [3.1, 35.6], zoom = 8)\n",
    "TurkanaMap_class = geemap.Map(center = [3.1, 35.6], zoom = 8, add_google_map = False)\n",
    "TurkanaMap_ndvi = geemap.Map(center = [3.1, 35.6], zoom = 8)"
   ]
  },
  {
   "cell_type": "code",
   "execution_count": 75,
   "id": "70a5954b",
   "metadata": {},
   "outputs": [],
   "source": [
    "# Open saved variables \n",
    "\n",
    "%store -r ndvi_collection\n",
    "%store -r ndvi_vis_params\n",
    "%store -r ndvi_89\n",
    "%store -r ndvi_90\n",
    "%store -r ndvi_91\n",
    "%store -r ndvi_94\n",
    "%store -r ndvi_95\n",
    "%store -r ndvi_96\n",
    "%store -r ndvi_98\n",
    "%store -r ndvi_99\n",
    "%store -r ndvi_14\n",
    "%store -r ndvi_15\n",
    "%store -r ndvi_16\n",
    "%store -r ndvi_17\n",
    "%store -r ndvi_18\n",
    "%store -r ndvi_19\n",
    "%store -r ndvi_20\n",
    "\n",
    "%store -r focus_geom\n",
    "%store -r diff_params"
   ]
  },
  {
   "cell_type": "code",
   "execution_count": 76,
   "id": "3ef6d51e",
   "metadata": {},
   "outputs": [
    {
     "name": "stdout",
     "output_type": "stream",
     "text": [
      "Stored 'diff_params' (dict)\n"
     ]
    }
   ],
   "source": [
    "# Create color palettes and visualization parameters \n",
    "\n",
    "ryb = 'e81f1f', 'edb418', 'e8f1b3', 'baf380', '49cfe8'\n",
    "diff_params = {'bands': ['nd'], 'palette': ['e81f1f', 'edb418', 'e8f1b3', 'baf380', '49cfe8'], 'min': -2.0, 'max': 2.0, 'opacity': 1.0}\n",
    "\n",
    "%store diff_params "
   ]
  },
  {
   "cell_type": "code",
   "execution_count": 77,
   "id": "15cebe69",
   "metadata": {
    "scrolled": true
   },
   "outputs": [
    {
     "data": {
      "text/html": [
       "<div style=\"width:100%;\"><div style=\"position:relative;width:100%;height:0;padding-bottom:60%;\"><span style=\"color:#565656\">Make this Notebook Trusted to load map: File -> Trust Notebook</span><iframe src=\"about:blank\" style=\"position:absolute;width:100%;height:100%;left:0;top:0;border:none !important;\" data-html=%3C%21DOCTYPE%20html%3E%0A%3Chead%3E%20%20%20%20%0A%20%20%20%20%3Cmeta%20http-equiv%3D%22content-type%22%20content%3D%22text/html%3B%20charset%3DUTF-8%22%20/%3E%0A%20%20%20%20%0A%20%20%20%20%20%20%20%20%3Cscript%3E%0A%20%20%20%20%20%20%20%20%20%20%20%20L_NO_TOUCH%20%3D%20false%3B%0A%20%20%20%20%20%20%20%20%20%20%20%20L_DISABLE_3D%20%3D%20false%3B%0A%20%20%20%20%20%20%20%20%3C/script%3E%0A%20%20%20%20%0A%20%20%20%20%3Cstyle%3Ehtml%2C%20body%20%7Bwidth%3A%20100%25%3Bheight%3A%20100%25%3Bmargin%3A%200%3Bpadding%3A%200%3B%7D%3C/style%3E%0A%20%20%20%20%3Cstyle%3E%23map%20%7Bposition%3Aabsolute%3Btop%3A0%3Bbottom%3A0%3Bright%3A0%3Bleft%3A0%3B%7D%3C/style%3E%0A%20%20%20%20%3Cscript%20src%3D%22https%3A//cdn.jsdelivr.net/npm/leaflet%401.6.0/dist/leaflet.js%22%3E%3C/script%3E%0A%20%20%20%20%3Cscript%20src%3D%22https%3A//code.jquery.com/jquery-1.12.4.min.js%22%3E%3C/script%3E%0A%20%20%20%20%3Cscript%20src%3D%22https%3A//maxcdn.bootstrapcdn.com/bootstrap/3.2.0/js/bootstrap.min.js%22%3E%3C/script%3E%0A%20%20%20%20%3Cscript%20src%3D%22https%3A//cdnjs.cloudflare.com/ajax/libs/Leaflet.awesome-markers/2.0.2/leaflet.awesome-markers.js%22%3E%3C/script%3E%0A%20%20%20%20%3Clink%20rel%3D%22stylesheet%22%20href%3D%22https%3A//cdn.jsdelivr.net/npm/leaflet%401.6.0/dist/leaflet.css%22/%3E%0A%20%20%20%20%3Clink%20rel%3D%22stylesheet%22%20href%3D%22https%3A//maxcdn.bootstrapcdn.com/bootstrap/3.2.0/css/bootstrap.min.css%22/%3E%0A%20%20%20%20%3Clink%20rel%3D%22stylesheet%22%20href%3D%22https%3A//maxcdn.bootstrapcdn.com/bootstrap/3.2.0/css/bootstrap-theme.min.css%22/%3E%0A%20%20%20%20%3Clink%20rel%3D%22stylesheet%22%20href%3D%22https%3A//maxcdn.bootstrapcdn.com/font-awesome/4.6.3/css/font-awesome.min.css%22/%3E%0A%20%20%20%20%3Clink%20rel%3D%22stylesheet%22%20href%3D%22https%3A//cdnjs.cloudflare.com/ajax/libs/Leaflet.awesome-markers/2.0.2/leaflet.awesome-markers.css%22/%3E%0A%20%20%20%20%3Clink%20rel%3D%22stylesheet%22%20href%3D%22https%3A//cdn.jsdelivr.net/gh/python-visualization/folium/folium/templates/leaflet.awesome.rotate.min.css%22/%3E%0A%20%20%20%20%0A%20%20%20%20%20%20%20%20%20%20%20%20%3Cmeta%20name%3D%22viewport%22%20content%3D%22width%3Ddevice-width%2C%0A%20%20%20%20%20%20%20%20%20%20%20%20%20%20%20%20initial-scale%3D1.0%2C%20maximum-scale%3D1.0%2C%20user-scalable%3Dno%22%20/%3E%0A%20%20%20%20%20%20%20%20%20%20%20%20%3Cstyle%3E%0A%20%20%20%20%20%20%20%20%20%20%20%20%20%20%20%20%23map_5fc9259e09d644bcb0ddec7649fc9a02%20%7B%0A%20%20%20%20%20%20%20%20%20%20%20%20%20%20%20%20%20%20%20%20position%3A%20relative%3B%0A%20%20%20%20%20%20%20%20%20%20%20%20%20%20%20%20%20%20%20%20width%3A%20100.0%25%3B%0A%20%20%20%20%20%20%20%20%20%20%20%20%20%20%20%20%20%20%20%20height%3A%20100.0%25%3B%0A%20%20%20%20%20%20%20%20%20%20%20%20%20%20%20%20%20%20%20%20left%3A%200.0%25%3B%0A%20%20%20%20%20%20%20%20%20%20%20%20%20%20%20%20%20%20%20%20top%3A%200.0%25%3B%0A%20%20%20%20%20%20%20%20%20%20%20%20%20%20%20%20%7D%0A%20%20%20%20%20%20%20%20%20%20%20%20%3C/style%3E%0A%20%20%20%20%20%20%20%20%0A%20%20%20%20%3Cscript%20src%3D%22https%3A//cdnjs.cloudflare.com/ajax/libs/leaflet.fullscreen/1.4.2/Control.FullScreen.min.js%22%3E%3C/script%3E%0A%20%20%20%20%3Clink%20rel%3D%22stylesheet%22%20href%3D%22https%3A//cdnjs.cloudflare.com/ajax/libs/leaflet.fullscreen/1.4.2/Control.FullScreen.min.css%22/%3E%0A%3C/head%3E%0A%3Cbody%3E%20%20%20%20%0A%20%20%20%20%0A%20%20%20%20%20%20%20%20%20%20%20%20%3Cdiv%20class%3D%22folium-map%22%20id%3D%22map_5fc9259e09d644bcb0ddec7649fc9a02%22%20%3E%3C/div%3E%0A%20%20%20%20%20%20%20%20%0A%3C/body%3E%0A%3Cscript%3E%20%20%20%20%0A%20%20%20%20%0A%20%20%20%20%20%20%20%20%20%20%20%20var%20map_5fc9259e09d644bcb0ddec7649fc9a02%20%3D%20L.map%28%0A%20%20%20%20%20%20%20%20%20%20%20%20%20%20%20%20%22map_5fc9259e09d644bcb0ddec7649fc9a02%22%2C%0A%20%20%20%20%20%20%20%20%20%20%20%20%20%20%20%20%7B%0A%20%20%20%20%20%20%20%20%20%20%20%20%20%20%20%20%20%20%20%20center%3A%20%5B3.1%2C%2035.6%5D%2C%0A%20%20%20%20%20%20%20%20%20%20%20%20%20%20%20%20%20%20%20%20crs%3A%20L.CRS.EPSG3857%2C%0A%20%20%20%20%20%20%20%20%20%20%20%20%20%20%20%20%20%20%20%20zoom%3A%208%2C%0A%20%20%20%20%20%20%20%20%20%20%20%20%20%20%20%20%20%20%20%20zoomControl%3A%20true%2C%0A%20%20%20%20%20%20%20%20%20%20%20%20%20%20%20%20%20%20%20%20preferCanvas%3A%20false%2C%0A%20%20%20%20%20%20%20%20%20%20%20%20%20%20%20%20%20%20%20%20eeInitialize%3A%20true%2C%0A%20%20%20%20%20%20%20%20%20%20%20%20%20%20%20%20%20%20%20%20addGoogleMap%3A%20true%2C%0A%20%20%20%20%20%20%20%20%20%20%20%20%20%20%20%20%20%20%20%20pluginLatlngpopup%3A%20true%2C%0A%20%20%20%20%20%20%20%20%20%20%20%20%20%20%20%20%20%20%20%20pluginFullscreen%3A%20true%2C%0A%20%20%20%20%20%20%20%20%20%20%20%20%20%20%20%20%20%20%20%20pluginDraw%3A%20false%2C%0A%20%20%20%20%20%20%20%20%20%20%20%20%20%20%20%20%20%20%20%20DrawExport%3A%20true%2C%0A%20%20%20%20%20%20%20%20%20%20%20%20%20%20%20%20%20%20%20%20pluginMinimap%3A%20false%2C%0A%20%20%20%20%20%20%20%20%20%20%20%20%20%20%20%20%20%20%20%20pluginLayercontrol%3A%20false%2C%0A%20%20%20%20%20%20%20%20%20%20%20%20%20%20%20%20%7D%0A%20%20%20%20%20%20%20%20%20%20%20%20%29%3B%0A%0A%20%20%20%20%20%20%20%20%20%20%20%20%0A%0A%20%20%20%20%20%20%20%20%0A%20%20%20%20%0A%20%20%20%20%20%20%20%20%20%20%20%20var%20tile_layer_2754d9ac5b734a939eb90760230c1258%20%3D%20L.tileLayer%28%0A%20%20%20%20%20%20%20%20%20%20%20%20%20%20%20%20%22https%3A//%7Bs%7D.tile.openstreetmap.org/%7Bz%7D/%7Bx%7D/%7By%7D.png%22%2C%0A%20%20%20%20%20%20%20%20%20%20%20%20%20%20%20%20%7B%22attribution%22%3A%20%22Data%20by%20%5Cu0026copy%3B%20%5Cu003ca%20href%3D%5C%22http%3A//openstreetmap.org%5C%22%5Cu003eOpenStreetMap%5Cu003c/a%5Cu003e%2C%20under%20%5Cu003ca%20href%3D%5C%22http%3A//www.openstreetmap.org/copyright%5C%22%5Cu003eODbL%5Cu003c/a%5Cu003e.%22%2C%20%22detectRetina%22%3A%20false%2C%20%22maxNativeZoom%22%3A%2018%2C%20%22maxZoom%22%3A%2018%2C%20%22minZoom%22%3A%200%2C%20%22noWrap%22%3A%20false%2C%20%22opacity%22%3A%201%2C%20%22subdomains%22%3A%20%22abc%22%2C%20%22tms%22%3A%20false%7D%0A%20%20%20%20%20%20%20%20%20%20%20%20%29.addTo%28map_5fc9259e09d644bcb0ddec7649fc9a02%29%3B%0A%20%20%20%20%20%20%20%20%0A%20%20%20%20%0A%20%20%20%20%20%20%20%20%20%20%20%20%20%20%20%20var%20lat_lng_popup_a5468c2d7ae949709e6da8b8220d6b7f%20%3D%20L.popup%28%29%3B%0A%20%20%20%20%20%20%20%20%20%20%20%20%20%20%20%20function%20latLngPop%28e%29%20%7B%0A%20%20%20%20%20%20%20%20%20%20%20%20%20%20%20%20%20%20%20%20lat_lng_popup_a5468c2d7ae949709e6da8b8220d6b7f%0A%20%20%20%20%20%20%20%20%20%20%20%20%20%20%20%20%20%20%20%20%20%20%20%20.setLatLng%28e.latlng%29%0A%20%20%20%20%20%20%20%20%20%20%20%20%20%20%20%20%20%20%20%20%20%20%20%20.setContent%28%22Latitude%3A%20%22%20%2B%20e.latlng.lat.toFixed%284%29%20%2B%0A%20%20%20%20%20%20%20%20%20%20%20%20%20%20%20%20%20%20%20%20%20%20%20%20%20%20%20%20%20%20%20%20%20%20%20%20%22%3Cbr%3ELongitude%3A%20%22%20%2B%20e.latlng.lng.toFixed%284%29%29%0A%20%20%20%20%20%20%20%20%20%20%20%20%20%20%20%20%20%20%20%20%20%20%20%20.openOn%28map_5fc9259e09d644bcb0ddec7649fc9a02%29%3B%0A%20%20%20%20%20%20%20%20%20%20%20%20%20%20%20%20%20%20%20%20%7D%0A%20%20%20%20%20%20%20%20%20%20%20%20%20%20%20%20map_5fc9259e09d644bcb0ddec7649fc9a02.on%28%27click%27%2C%20latLngPop%29%3B%0A%20%20%20%20%20%20%20%20%20%20%20%20%0A%20%20%20%20%0A%20%20%20%20%20%20%20%20%20%20%20%20L.control.fullscreen%28%0A%20%20%20%20%20%20%20%20%20%20%20%20%20%20%20%20%7B%22forceSeparateButton%22%3A%20false%2C%20%22position%22%3A%20%22topleft%22%2C%20%22title%22%3A%20%22Full%20Screen%22%2C%20%22titleCancel%22%3A%20%22Exit%20Full%20Screen%22%7D%0A%20%20%20%20%20%20%20%20%20%20%20%20%29.addTo%28map_5fc9259e09d644bcb0ddec7649fc9a02%29%3B%0A%20%20%20%20%20%20%20%20%0A%20%20%20%20%0A%20%20%20%20%20%20%20%20%20%20%20%20map_5fc9259e09d644bcb0ddec7649fc9a02.fitBounds%28%0A%20%20%20%20%20%20%20%20%20%20%20%20%20%20%20%20%5B%5B3.1%2C%2035.6%5D%2C%20%5B3.1%2C%2035.6%5D%5D%2C%0A%20%20%20%20%20%20%20%20%20%20%20%20%20%20%20%20%7B%22maxZoom%22%3A%208%7D%0A%20%20%20%20%20%20%20%20%20%20%20%20%29%3B%0A%20%20%20%20%20%20%20%20%0A%20%20%20%20%0A%20%20%20%20%20%20%20%20%20%20%20%20var%20tile_layer_0bebc172142442739a9760231e346e1b%20%3D%20L.tileLayer%28%0A%20%20%20%20%20%20%20%20%20%20%20%20%20%20%20%20%22https%3A//earthengine.googleapis.com/v1alpha/projects/earthengine-legacy/maps/9968f5352f950fdbd67302b0554d52b2-f0719adcea0677c1a8105f4b45b3c535/tiles/%7Bz%7D/%7Bx%7D/%7By%7D%22%2C%0A%20%20%20%20%20%20%20%20%20%20%20%20%20%20%20%20%7B%22attribution%22%3A%20%22Google%20Earth%20Engine%22%2C%20%22detectRetina%22%3A%20false%2C%20%22maxNativeZoom%22%3A%2018%2C%20%22maxZoom%22%3A%2018%2C%20%22minZoom%22%3A%200%2C%20%22noWrap%22%3A%20false%2C%20%22opacity%22%3A%201.0%2C%20%22subdomains%22%3A%20%22abc%22%2C%20%22tms%22%3A%20false%7D%0A%20%20%20%20%20%20%20%20%20%20%20%20%29.addTo%28map_5fc9259e09d644bcb0ddec7649fc9a02%29%3B%0A%20%20%20%20%20%20%20%20%0A%20%20%20%20%0A%20%20%20%20%20%20%20%20%20%20%20%20var%20layer_control_459ee9c7e2f0427a8b7f332c22e3de10%20%3D%20%7B%0A%20%20%20%20%20%20%20%20%20%20%20%20%20%20%20%20base_layers%20%3A%20%7B%0A%20%20%20%20%20%20%20%20%20%20%20%20%20%20%20%20%20%20%20%20%22openstreetmap%22%20%3A%20tile_layer_2754d9ac5b734a939eb90760230c1258%2C%0A%20%20%20%20%20%20%20%20%20%20%20%20%20%20%20%20%7D%2C%0A%20%20%20%20%20%20%20%20%20%20%20%20%20%20%20%20overlays%20%3A%20%20%7B%0A%20%20%20%20%20%20%20%20%20%20%20%20%20%20%20%20%20%20%20%20%22Google%20Maps%22%20%3A%20tile_layer_9677e0efc6d4460eb57df8c8be06976f%2C%0A%20%20%20%20%20%20%20%20%20%20%20%20%20%20%20%20%20%20%20%20%22diff%22%20%3A%20tile_layer_0bebc172142442739a9760231e346e1b%2C%0A%20%20%20%20%20%20%20%20%20%20%20%20%20%20%20%20%7D%2C%0A%20%20%20%20%20%20%20%20%20%20%20%20%7D%3B%0A%20%20%20%20%20%20%20%20%20%20%20%20L.control.layers%28%0A%20%20%20%20%20%20%20%20%20%20%20%20%20%20%20%20layer_control_459ee9c7e2f0427a8b7f332c22e3de10.base_layers%2C%0A%20%20%20%20%20%20%20%20%20%20%20%20%20%20%20%20layer_control_459ee9c7e2f0427a8b7f332c22e3de10.overlays%2C%0A%20%20%20%20%20%20%20%20%20%20%20%20%20%20%20%20%7B%22autoZIndex%22%3A%20true%2C%20%22collapsed%22%3A%20true%2C%20%22position%22%3A%20%22topright%22%7D%0A%20%20%20%20%20%20%20%20%20%20%20%20%29.addTo%28map_5fc9259e09d644bcb0ddec7649fc9a02%29%3B%0A%20%20%20%20%20%20%20%20%0A%3C/script%3E onload=\"this.contentDocument.open();this.contentDocument.write(    decodeURIComponent(this.getAttribute('data-html')));this.contentDocument.close();\" allowfullscreen webkitallowfullscreen mozallowfullscreen></iframe></div></div>"
      ],
      "text/plain": [
       "<geemap.foliumap.Map at 0x255a72b79d0>"
      ]
     },
     "execution_count": 77,
     "metadata": {},
     "output_type": "execute_result"
    }
   ],
   "source": [
    "# Create NDVI difference layer\n",
    "\n",
    "diff = ndvi_20.subtract(ndvi_19)\n",
    "squared_diff = diff.pow(2)\n",
    "TurkanaMap.addLayer(diff, diff_params, 'diff')\n",
    "TurkanaMap"
   ]
  },
  {
   "cell_type": "code",
   "execution_count": 78,
   "id": "cf1cf96f",
   "metadata": {},
   "outputs": [
    {
     "data": {
      "text/plain": [
       "{'max': {'nd': 0.33151008385010955},\n",
       " 'mean': {'nd': 0.11561779218423919},\n",
       " 'min': {'nd': -0.08782962086647703},\n",
       " 'std': {'nd': 0.11222706037878846},\n",
       " 'sum': {'nd': 0.2883643758006907}}"
      ]
     },
     "execution_count": 78,
     "metadata": {},
     "output_type": "execute_result"
    }
   ],
   "source": [
    "# Get stats for NDVI difference layer \n",
    "diff_stats = geemap.image_stats(diff)\n",
    "diff_stats.getInfo()"
   ]
  },
  {
   "cell_type": "code",
   "execution_count": 79,
   "id": "bb703004",
   "metadata": {},
   "outputs": [],
   "source": [
    "# Create training sample for each NDVI\n",
    "\n",
    "sample_params = {\n",
    "    'scale': 30,\n",
    "    'numPixels': 400,\n",
    "    'seed': 0, \n",
    "    'geometries': True\n",
    "}\n",
    "\n",
    "training_20 = ndvi_20.sample(**sample_params)\n",
    "training_19 = ndvi_19.sample(**sample_params)\n",
    "training_18 = ndvi_18.sample(**sample_params)\n",
    "training_17 = ndvi_17.sample(**sample_params)\n",
    "training_16 = ndvi_16.sample(**sample_params)\n",
    "training_15 = ndvi_15.sample(**sample_params)\n",
    "training_14 = ndvi_14.sample(**sample_params)\n",
    "training_99 = ndvi_99.sample(**sample_params)\n",
    "training_98 = ndvi_98.sample(**sample_params)\n",
    "training_95 = ndvi_95.sample(**sample_params)\n",
    "training_94 = ndvi_94.sample(**sample_params)\n",
    "training_89 = ndvi_89.sample(**sample_params)"
   ]
  },
  {
   "cell_type": "code",
   "execution_count": 80,
   "id": "cb19176d",
   "metadata": {},
   "outputs": [],
   "source": [
    "# Set clusterer\n",
    "n_clusters = 5\n",
    "\n",
    "clusterer_kmeans = ee.Clusterer.wekaKMeans(n_clusters)"
   ]
  },
  {
   "cell_type": "code",
   "execution_count": 81,
   "id": "16c68c05",
   "metadata": {},
   "outputs": [],
   "source": [
    "# Instantiate and train clusterers for each NDVI \n",
    "\n",
    "clusterer_89 = clusterer_kmeans.train(training_89)\n",
    "clusterer_94 = clusterer_kmeans.train(training_94)\n",
    "clusterer_95 = clusterer_kmeans.train(training_95)\n",
    "clusterer_98 = clusterer_kmeans.train(training_98)\n",
    "clusterer_99 = clusterer_kmeans.train(training_99)\n",
    "clusterer_14 = clusterer_kmeans.train(training_14)\n",
    "clusterer_15 = clusterer_kmeans.train(training_15)\n",
    "clusterer_16 = clusterer_kmeans.train(training_16)\n",
    "clusterer_17 = clusterer_kmeans.train(training_17)\n",
    "clusterer_18 = clusterer_kmeans.train(training_18)\n",
    "clusterer_19 = clusterer_kmeans.train(training_19)\n",
    "clusterer_20 = clusterer_kmeans.train(training_20)"
   ]
  },
  {
   "cell_type": "code",
   "execution_count": 82,
   "id": "43c9178f",
   "metadata": {},
   "outputs": [],
   "source": [
    "# Set visualization parameters \n",
    "\n",
    "vis89_params = {'bands': ['cluster'], 'palette': ['#238b45', '#f7fcf5', '#74c476', '#c7e9c0', '#00441b'], 'min': 0.0, 'max': 4.0, 'opacity': 1.0}\n",
    "vis94_params = {'bands': ['cluster'], 'palette': ['#74c476', '#238b45', '#f7fcf5', '#c7e9c0', '#00441b'], 'min': 0.0, 'max': 4.0, 'opacity': 1.0}\n",
    "vis95_params = {'bands': ['cluster'], 'palette': ['#238b45', '#74c476', '#f7fcf5', '#c7e9c0', '#00441b'], 'min': 0.0, 'max': 4.0, 'opacity': 1.0}\n",
    "vis98_params = {'bands': ['cluster'], 'palette': ['#238b45', '#c7e9c0', '#00441b', '#f7fcf5', '#74c476'], 'min': 0.0, 'max': 4.0, 'opacity': 1.0}\n",
    "vis99_params = {'bands': ['cluster'], 'palette': ['#c7e9c0', '#00441b', '#238b45', '#f7fcf5', '#74c476'], 'min': 0.0, 'max': 4.0, 'opacity': 1.0}\n",
    "\n",
    "vis14_params = {'bands': ['cluster'], 'palette': ['#238b45', '#74c476', '#00441b', '#f7fcf5', '#c7e9c0'], 'min': 0.0, 'max': 4.0, 'opacity': 1.0}\n",
    "vis15_params = {'bands': ['cluster'], 'palette': ['#238b45', '#74c476', '#00441b', '#f7fcf5', '#c7e9c0'], 'min': 0.0, 'max': 4.0, 'opacity': 1.0}\n",
    "vis16_params = {'bands': ['cluster'], 'palette': ['#f7fcf5', '#00441b', '#c7e9c0', '#74c476', '#238b45'], 'min': 0.0, 'max': 4.0, 'opacity': 1.0}\n",
    "vis17_params = {'bands': ['cluster'], 'palette': ['#238b45', '#74c476', '#00441b', '#f7fcf5', '#c7e9c0'], 'min': 0.0, 'max': 4.0, 'opacity': 1.0}\n",
    "vis18_params = {'bands': ['cluster'], 'palette': ['#00441b', '#74c476', '#238b45', '#f7fcf5', '#c7e9c0'], 'min': 0.0, 'max': 4.0, 'opacity': 1.0}\n",
    "vis19_params = {'bands': ['cluster'], 'palette': ['#238b45', '#c7e9c0', '#00441b', '#f7fcf5', '#74c476'], 'min': 0.0, 'max': 4.0, 'opacity': 1.0}\n",
    "vis20_params = {'bands': ['cluster'], 'palette': ['#c7e9c0', '#238b45', '#f7fcf5', '#74c476', '#00441b'], 'min': 0.0, 'max': 4.0, 'opacity': 1.0}"
   ]
  },
  {
   "cell_type": "code",
   "execution_count": 83,
   "id": "5fcc95f9",
   "metadata": {},
   "outputs": [],
   "source": [
    "# Create classes for each year: these are clusters created by the clusterers \n",
    "\n",
    "class_89 = ndvi_89.cluster(clusterer_89)\n",
    "#class_90 = ndvi_90.cluster(clusterer_90)\n",
    "#class_91 = ndvi_91.cluster(clusterer_91)\n",
    "class_94 = ndvi_94.cluster(clusterer_94)\n",
    "class_95 = ndvi_95.cluster(clusterer_95)\n",
    "#class_96 = ndvi_96.cluster(clusterer_96)\n",
    "class_98 = ndvi_98.cluster(clusterer_98)\n",
    "class_99 = ndvi_99.cluster(clusterer_99)\n",
    "class_14 = ndvi_14.cluster(clusterer_14)\n",
    "class_15 = ndvi_15.cluster(clusterer_15)\n",
    "class_16 = ndvi_16.cluster(clusterer_16)\n",
    "class_17 = ndvi_17.cluster(clusterer_17)\n",
    "class_18 = ndvi_18.cluster(clusterer_18)\n",
    "class_19 = ndvi_19.cluster(clusterer_19)\n",
    "class_20 = ndvi_20.cluster(clusterer_20)"
   ]
  },
  {
   "cell_type": "code",
   "execution_count": 84,
   "id": "ef4340dd",
   "metadata": {},
   "outputs": [],
   "source": [
    "# Add classified clusters to map \n",
    "\n",
    "TurkanaMap_class.addLayer(class_89, vis89_params, 'class_89')\n",
    "TurkanaMap_class.addLayer(class_94, vis94_params, 'class_94')\n",
    "TurkanaMap_class.addLayer(class_95, vis95_params, 'class_95')\n",
    "TurkanaMap_class.addLayer(class_98, vis98_params, 'class_98')\n",
    "TurkanaMap_class.addLayer(class_99, vis99_params, 'class_99')\n",
    "TurkanaMap_class.addLayer(class_14, vis14_params, 'class_14')\n",
    "TurkanaMap_class.addLayer(class_15, vis15_params, 'class_15')\n",
    "TurkanaMap_class.addLayer(class_16, vis16_params, 'class_16')\n",
    "TurkanaMap_class.addLayer(class_17, vis17_params, 'class_17')\n",
    "TurkanaMap_class.addLayer(class_18, vis18_params, 'class_18')\n",
    "TurkanaMap_class.addLayer(class_19, vis19_params, 'class_19')\n",
    "TurkanaMap_class.addLayer(class_20, vis20_params, 'class_20')"
   ]
  },
  {
   "cell_type": "code",
   "execution_count": 85,
   "id": "c09b9d9a",
   "metadata": {},
   "outputs": [
    {
     "data": {
      "text/html": [
       "<div style=\"width:100%;\"><div style=\"position:relative;width:100%;height:0;padding-bottom:60%;\"><span style=\"color:#565656\">Make this Notebook Trusted to load map: File -> Trust Notebook</span><iframe src=\"about:blank\" style=\"position:absolute;width:100%;height:100%;left:0;top:0;border:none !important;\" data-html=%3C%21DOCTYPE%20html%3E%0A%3Chead%3E%20%20%20%20%0A%20%20%20%20%3Cmeta%20http-equiv%3D%22content-type%22%20content%3D%22text/html%3B%20charset%3DUTF-8%22%20/%3E%0A%20%20%20%20%0A%20%20%20%20%20%20%20%20%3Cscript%3E%0A%20%20%20%20%20%20%20%20%20%20%20%20L_NO_TOUCH%20%3D%20false%3B%0A%20%20%20%20%20%20%20%20%20%20%20%20L_DISABLE_3D%20%3D%20false%3B%0A%20%20%20%20%20%20%20%20%3C/script%3E%0A%20%20%20%20%0A%20%20%20%20%3Cstyle%3Ehtml%2C%20body%20%7Bwidth%3A%20100%25%3Bheight%3A%20100%25%3Bmargin%3A%200%3Bpadding%3A%200%3B%7D%3C/style%3E%0A%20%20%20%20%3Cstyle%3E%23map%20%7Bposition%3Aabsolute%3Btop%3A0%3Bbottom%3A0%3Bright%3A0%3Bleft%3A0%3B%7D%3C/style%3E%0A%20%20%20%20%3Cscript%20src%3D%22https%3A//cdn.jsdelivr.net/npm/leaflet%401.6.0/dist/leaflet.js%22%3E%3C/script%3E%0A%20%20%20%20%3Cscript%20src%3D%22https%3A//code.jquery.com/jquery-1.12.4.min.js%22%3E%3C/script%3E%0A%20%20%20%20%3Cscript%20src%3D%22https%3A//maxcdn.bootstrapcdn.com/bootstrap/3.2.0/js/bootstrap.min.js%22%3E%3C/script%3E%0A%20%20%20%20%3Cscript%20src%3D%22https%3A//cdnjs.cloudflare.com/ajax/libs/Leaflet.awesome-markers/2.0.2/leaflet.awesome-markers.js%22%3E%3C/script%3E%0A%20%20%20%20%3Clink%20rel%3D%22stylesheet%22%20href%3D%22https%3A//cdn.jsdelivr.net/npm/leaflet%401.6.0/dist/leaflet.css%22/%3E%0A%20%20%20%20%3Clink%20rel%3D%22stylesheet%22%20href%3D%22https%3A//maxcdn.bootstrapcdn.com/bootstrap/3.2.0/css/bootstrap.min.css%22/%3E%0A%20%20%20%20%3Clink%20rel%3D%22stylesheet%22%20href%3D%22https%3A//maxcdn.bootstrapcdn.com/bootstrap/3.2.0/css/bootstrap-theme.min.css%22/%3E%0A%20%20%20%20%3Clink%20rel%3D%22stylesheet%22%20href%3D%22https%3A//maxcdn.bootstrapcdn.com/font-awesome/4.6.3/css/font-awesome.min.css%22/%3E%0A%20%20%20%20%3Clink%20rel%3D%22stylesheet%22%20href%3D%22https%3A//cdnjs.cloudflare.com/ajax/libs/Leaflet.awesome-markers/2.0.2/leaflet.awesome-markers.css%22/%3E%0A%20%20%20%20%3Clink%20rel%3D%22stylesheet%22%20href%3D%22https%3A//cdn.jsdelivr.net/gh/python-visualization/folium/folium/templates/leaflet.awesome.rotate.min.css%22/%3E%0A%20%20%20%20%0A%20%20%20%20%20%20%20%20%20%20%20%20%3Cmeta%20name%3D%22viewport%22%20content%3D%22width%3Ddevice-width%2C%0A%20%20%20%20%20%20%20%20%20%20%20%20%20%20%20%20initial-scale%3D1.0%2C%20maximum-scale%3D1.0%2C%20user-scalable%3Dno%22%20/%3E%0A%20%20%20%20%20%20%20%20%20%20%20%20%3Cstyle%3E%0A%20%20%20%20%20%20%20%20%20%20%20%20%20%20%20%20%23map_65f76d9bb5d74d468f8cca4159ff36e8%20%7B%0A%20%20%20%20%20%20%20%20%20%20%20%20%20%20%20%20%20%20%20%20position%3A%20relative%3B%0A%20%20%20%20%20%20%20%20%20%20%20%20%20%20%20%20%20%20%20%20width%3A%20100.0%25%3B%0A%20%20%20%20%20%20%20%20%20%20%20%20%20%20%20%20%20%20%20%20height%3A%20100.0%25%3B%0A%20%20%20%20%20%20%20%20%20%20%20%20%20%20%20%20%20%20%20%20left%3A%200.0%25%3B%0A%20%20%20%20%20%20%20%20%20%20%20%20%20%20%20%20%20%20%20%20top%3A%200.0%25%3B%0A%20%20%20%20%20%20%20%20%20%20%20%20%20%20%20%20%7D%0A%20%20%20%20%20%20%20%20%20%20%20%20%3C/style%3E%0A%20%20%20%20%20%20%20%20%0A%20%20%20%20%3Cscript%20src%3D%22https%3A//cdnjs.cloudflare.com/ajax/libs/leaflet.fullscreen/1.4.2/Control.FullScreen.min.js%22%3E%3C/script%3E%0A%20%20%20%20%3Clink%20rel%3D%22stylesheet%22%20href%3D%22https%3A//cdnjs.cloudflare.com/ajax/libs/leaflet.fullscreen/1.4.2/Control.FullScreen.min.css%22/%3E%0A%3C/head%3E%0A%3Cbody%3E%20%20%20%20%0A%20%20%20%20%0A%20%20%20%20%20%20%20%20%20%20%20%20%3Cdiv%20class%3D%22folium-map%22%20id%3D%22map_65f76d9bb5d74d468f8cca4159ff36e8%22%20%3E%3C/div%3E%0A%20%20%20%20%20%20%20%20%0A%20%20%20%20%0A%0A%3C%21doctype%20html%3E%0A%3Chtml%20lang%3D%22en%22%3E%0A%3Chead%3E%0A%20%20%3Cmeta%20charset%3D%22utf-8%22%3E%0A%20%20%3Cmeta%20name%3D%22viewport%22%20content%3D%22width%3Ddevice-width%2C%20initial-scale%3D1%22%3E%0A%20%20%3Ctitle%3EjQuery%20UI%20Draggable%20-%20Default%20functionality%3C/title%3E%0A%20%20%3Clink%20rel%3D%22stylesheet%22%20href%3D%22//code.jquery.com/ui/1.12.1/themes/base/jquery-ui.css%22%3E%0A%0A%20%20%3Cscript%20src%3D%22https%3A//code.jquery.com/jquery-1.12.4.js%22%3E%3C/script%3E%0A%20%20%3Cscript%20src%3D%22https%3A//code.jquery.com/ui/1.12.1/jquery-ui.js%22%3E%3C/script%3E%0A%0A%20%20%3Cscript%3E%0A%20%20%24%28%20function%28%29%20%7B%0A%20%20%20%20%24%28%20%22%23maplegend%22%20%29.draggable%28%7B%0A%20%20%20%20%20%20%20%20%20%20%20%20%20%20%20%20%20%20%20%20start%3A%20function%20%28event%2C%20ui%29%20%7B%0A%20%20%20%20%20%20%20%20%20%20%20%20%20%20%20%20%20%20%20%20%20%20%20%20%24%28this%29.css%28%7B%0A%20%20%20%20%20%20%20%20%20%20%20%20%20%20%20%20%20%20%20%20%20%20%20%20%20%20%20%20right%3A%20%22auto%22%2C%0A%20%20%20%20%20%20%20%20%20%20%20%20%20%20%20%20%20%20%20%20%20%20%20%20%20%20%20%20top%3A%20%22auto%22%2C%0A%20%20%20%20%20%20%20%20%20%20%20%20%20%20%20%20%20%20%20%20%20%20%20%20%20%20%20%20bottom%3A%20%22auto%22%0A%20%20%20%20%20%20%20%20%20%20%20%20%20%20%20%20%20%20%20%20%20%20%20%20%7D%29%3B%0A%20%20%20%20%20%20%20%20%20%20%20%20%20%20%20%20%20%20%20%20%7D%0A%20%20%20%20%20%20%20%20%20%20%20%20%20%20%20%20%7D%29%3B%0A%7D%29%3B%0A%0A%20%20%3C/script%3E%0A%3C/head%3E%0A%3Cbody%3E%0A%0A%0A%3Cdiv%20id%3D%27maplegend%27%20class%3D%27maplegend%27%0A%20%20%20%20style%3D%27position%3A%20absolute%3B%20z-index%3A9999%3B%20border%3A2px%20solid%20grey%3B%20background-color%3Argba%28255%2C%20255%2C%20255%2C%200.8%29%3B%0A%20%20%20%20%20border-radius%3A6px%3B%20padding%3A%2010px%3B%20font-size%3A14px%3B%20right%3A%2020px%3B%20bottom%3A%2020px%3B%27%3E%0A%0A%3Cdiv%20class%3D%27legend-title%27%3ENDVI%20Classes%3C/div%3E%0A%3Cdiv%20class%3D%27legend-scale%27%3E%0A%20%20%3Cul%20class%3D%27legend-labels%27%3E%0A%20%20%20%20%3Cli%3E%3Cspan%20style%3D%27background%3A%23f7fcf5%3Bopacity%3A1.0%3B%27%3E%3C/span%3EBarren/Water%3C/li%3E%0A%20%20%20%20%3Cli%3E%3Cspan%20style%3D%27background%3A%23c7e9c0%3Bopacity%3A1.0%3B%27%3E%3C/span%3ESandy/Desert%3C/li%3E%0A%20%20%20%20%3Cli%3E%3Cspan%20style%3D%27background%3A%2374c476%3Bopacity%3A1.0%3B%27%3E%3C/span%3ESparse%20Vegetation%3C/li%3E%0A%20%20%20%20%3Cli%3E%3Cspan%20style%3D%27background%3A%23238b45%3Bopacity%3A1.0%3B%27%3E%3C/span%3EModerate%20Vegetation%3C/li%3E%0A%20%20%20%20%3Cli%3E%3Cspan%20style%3D%27background%3A%2300441b%3Bopacity%3A1.0%3B%27%3E%3C/span%3EDensest%20Vegetation%3C/li%3E%0A%20%20%3C/ul%3E%0A%3C/div%3E%0A%3C/div%3E%0A%0A%3C/body%3E%0A%3C/html%3E%0A%0A%3Cstyle%20type%3D%27text/css%27%3E%0A%20%20.maplegend%20.legend-title%20%7B%0A%20%20%20%20text-align%3A%20left%3B%0A%20%20%20%20margin-bottom%3A%205px%3B%0A%20%20%20%20font-weight%3A%20bold%3B%0A%20%20%20%20font-size%3A%2090%25%3B%0A%20%20%20%20%7D%0A%20%20.maplegend%20.legend-scale%20ul%20%7B%0A%20%20%20%20margin%3A%200%3B%0A%20%20%20%20margin-bottom%3A%205px%3B%0A%20%20%20%20padding%3A%200%3B%0A%20%20%20%20float%3A%20left%3B%0A%20%20%20%20list-style%3A%20none%3B%0A%20%20%20%20%7D%0A%20%20.maplegend%20.legend-scale%20ul%20li%20%7B%0A%20%20%20%20font-size%3A%2080%25%3B%0A%20%20%20%20list-style%3A%20none%3B%0A%20%20%20%20margin-left%3A%200%3B%0A%20%20%20%20line-height%3A%2018px%3B%0A%20%20%20%20margin-bottom%3A%202px%3B%0A%20%20%20%20%7D%0A%20%20.maplegend%20ul.legend-labels%20li%20span%20%7B%0A%20%20%20%20display%3A%20block%3B%0A%20%20%20%20float%3A%20left%3B%0A%20%20%20%20height%3A%2016px%3B%0A%20%20%20%20width%3A%2030px%3B%0A%20%20%20%20margin-right%3A%205px%3B%0A%20%20%20%20margin-left%3A%200%3B%0A%20%20%20%20border%3A%201px%20solid%20%23999%3B%0A%20%20%20%20%7D%0A%20%20.maplegend%20.legend-source%20%7B%0A%20%20%20%20font-size%3A%2080%25%3B%0A%20%20%20%20color%3A%20%23777%3B%0A%20%20%20%20clear%3A%20both%3B%0A%20%20%20%20%7D%0A%20%20.maplegend%20a%20%7B%0A%20%20%20%20color%3A%20%23777%3B%0A%20%20%20%20%7D%0A%3C/style%3E%0A%3C/body%3E%0A%3Cscript%3E%20%20%20%20%0A%20%20%20%20%0A%20%20%20%20%20%20%20%20%20%20%20%20var%20map_65f76d9bb5d74d468f8cca4159ff36e8%20%3D%20L.map%28%0A%20%20%20%20%20%20%20%20%20%20%20%20%20%20%20%20%22map_65f76d9bb5d74d468f8cca4159ff36e8%22%2C%0A%20%20%20%20%20%20%20%20%20%20%20%20%20%20%20%20%7B%0A%20%20%20%20%20%20%20%20%20%20%20%20%20%20%20%20%20%20%20%20center%3A%20%5B3.1%2C%2035.6%5D%2C%0A%20%20%20%20%20%20%20%20%20%20%20%20%20%20%20%20%20%20%20%20crs%3A%20L.CRS.EPSG3857%2C%0A%20%20%20%20%20%20%20%20%20%20%20%20%20%20%20%20%20%20%20%20zoom%3A%208%2C%0A%20%20%20%20%20%20%20%20%20%20%20%20%20%20%20%20%20%20%20%20zoomControl%3A%20true%2C%0A%20%20%20%20%20%20%20%20%20%20%20%20%20%20%20%20%20%20%20%20preferCanvas%3A%20false%2C%0A%20%20%20%20%20%20%20%20%20%20%20%20%20%20%20%20%20%20%20%20addGoogleMap%3A%20false%2C%0A%20%20%20%20%20%20%20%20%20%20%20%20%20%20%20%20%20%20%20%20eeInitialize%3A%20true%2C%0A%20%20%20%20%20%20%20%20%20%20%20%20%20%20%20%20%20%20%20%20pluginLatlngpopup%3A%20true%2C%0A%20%20%20%20%20%20%20%20%20%20%20%20%20%20%20%20%20%20%20%20pluginFullscreen%3A%20true%2C%0A%20%20%20%20%20%20%20%20%20%20%20%20%20%20%20%20%20%20%20%20pluginDraw%3A%20false%2C%0A%20%20%20%20%20%20%20%20%20%20%20%20%20%20%20%20%20%20%20%20DrawExport%3A%20true%2C%0A%20%20%20%20%20%20%20%20%20%20%20%20%20%20%20%20%20%20%20%20pluginMinimap%3A%20false%2C%0A%20%20%20%20%20%20%20%20%20%20%20%20%20%20%20%20%20%20%20%20pluginLayercontrol%3A%20false%2C%0A%20%20%20%20%20%20%20%20%20%20%20%20%20%20%20%20%7D%0A%20%20%20%20%20%20%20%20%20%20%20%20%29%3B%0A%0A%20%20%20%20%20%20%20%20%20%20%20%20%0A%0A%20%20%20%20%20%20%20%20%0A%20%20%20%20%0A%20%20%20%20%20%20%20%20%20%20%20%20var%20tile_layer_dd476115aa2f43879620d23c9d48ca30%20%3D%20L.tileLayer%28%0A%20%20%20%20%20%20%20%20%20%20%20%20%20%20%20%20%22https%3A//%7Bs%7D.tile.openstreetmap.org/%7Bz%7D/%7Bx%7D/%7By%7D.png%22%2C%0A%20%20%20%20%20%20%20%20%20%20%20%20%20%20%20%20%7B%22attribution%22%3A%20%22Data%20by%20%5Cu0026copy%3B%20%5Cu003ca%20href%3D%5C%22http%3A//openstreetmap.org%5C%22%5Cu003eOpenStreetMap%5Cu003c/a%5Cu003e%2C%20under%20%5Cu003ca%20href%3D%5C%22http%3A//www.openstreetmap.org/copyright%5C%22%5Cu003eODbL%5Cu003c/a%5Cu003e.%22%2C%20%22detectRetina%22%3A%20false%2C%20%22maxNativeZoom%22%3A%2018%2C%20%22maxZoom%22%3A%2018%2C%20%22minZoom%22%3A%200%2C%20%22noWrap%22%3A%20false%2C%20%22opacity%22%3A%201%2C%20%22subdomains%22%3A%20%22abc%22%2C%20%22tms%22%3A%20false%7D%0A%20%20%20%20%20%20%20%20%20%20%20%20%29.addTo%28map_65f76d9bb5d74d468f8cca4159ff36e8%29%3B%0A%20%20%20%20%20%20%20%20%0A%20%20%20%20%0A%20%20%20%20%20%20%20%20%20%20%20%20%20%20%20%20var%20lat_lng_popup_75d29dcbf0fd4bcda74c435e0d4057a7%20%3D%20L.popup%28%29%3B%0A%20%20%20%20%20%20%20%20%20%20%20%20%20%20%20%20function%20latLngPop%28e%29%20%7B%0A%20%20%20%20%20%20%20%20%20%20%20%20%20%20%20%20%20%20%20%20lat_lng_popup_75d29dcbf0fd4bcda74c435e0d4057a7%0A%20%20%20%20%20%20%20%20%20%20%20%20%20%20%20%20%20%20%20%20%20%20%20%20.setLatLng%28e.latlng%29%0A%20%20%20%20%20%20%20%20%20%20%20%20%20%20%20%20%20%20%20%20%20%20%20%20.setContent%28%22Latitude%3A%20%22%20%2B%20e.latlng.lat.toFixed%284%29%20%2B%0A%20%20%20%20%20%20%20%20%20%20%20%20%20%20%20%20%20%20%20%20%20%20%20%20%20%20%20%20%20%20%20%20%20%20%20%20%22%3Cbr%3ELongitude%3A%20%22%20%2B%20e.latlng.lng.toFixed%284%29%29%0A%20%20%20%20%20%20%20%20%20%20%20%20%20%20%20%20%20%20%20%20%20%20%20%20.openOn%28map_65f76d9bb5d74d468f8cca4159ff36e8%29%3B%0A%20%20%20%20%20%20%20%20%20%20%20%20%20%20%20%20%20%20%20%20%7D%0A%20%20%20%20%20%20%20%20%20%20%20%20%20%20%20%20map_65f76d9bb5d74d468f8cca4159ff36e8.on%28%27click%27%2C%20latLngPop%29%3B%0A%20%20%20%20%20%20%20%20%20%20%20%20%0A%20%20%20%20%0A%20%20%20%20%20%20%20%20%20%20%20%20L.control.fullscreen%28%0A%20%20%20%20%20%20%20%20%20%20%20%20%20%20%20%20%7B%22forceSeparateButton%22%3A%20false%2C%20%22position%22%3A%20%22topleft%22%2C%20%22title%22%3A%20%22Full%20Screen%22%2C%20%22titleCancel%22%3A%20%22Exit%20Full%20Screen%22%7D%0A%20%20%20%20%20%20%20%20%20%20%20%20%29.addTo%28map_65f76d9bb5d74d468f8cca4159ff36e8%29%3B%0A%20%20%20%20%20%20%20%20%0A%20%20%20%20%0A%20%20%20%20%20%20%20%20%20%20%20%20map_65f76d9bb5d74d468f8cca4159ff36e8.fitBounds%28%0A%20%20%20%20%20%20%20%20%20%20%20%20%20%20%20%20%5B%5B3.1%2C%2035.6%5D%2C%20%5B3.1%2C%2035.6%5D%5D%2C%0A%20%20%20%20%20%20%20%20%20%20%20%20%20%20%20%20%7B%22maxZoom%22%3A%208%7D%0A%20%20%20%20%20%20%20%20%20%20%20%20%29%3B%0A%20%20%20%20%20%20%20%20%0A%20%20%20%20%0A%20%20%20%20%20%20%20%20%20%20%20%20var%20tile_layer_e5d3bc9296f44dfd9bb3550a4d33b1c9%20%3D%20L.tileLayer%28%0A%20%20%20%20%20%20%20%20%20%20%20%20%20%20%20%20%22https%3A//earthengine.googleapis.com/v1alpha/projects/earthengine-legacy/maps/d8b43b60367c796fb885c5e6e6703fed-449390f17aa01a3f2db31f83ec05d53a/tiles/%7Bz%7D/%7Bx%7D/%7By%7D%22%2C%0A%20%20%20%20%20%20%20%20%20%20%20%20%20%20%20%20%7B%22attribution%22%3A%20%22Google%20Earth%20Engine%22%2C%20%22detectRetina%22%3A%20false%2C%20%22maxNativeZoom%22%3A%2018%2C%20%22maxZoom%22%3A%2018%2C%20%22minZoom%22%3A%200%2C%20%22noWrap%22%3A%20false%2C%20%22opacity%22%3A%201.0%2C%20%22subdomains%22%3A%20%22abc%22%2C%20%22tms%22%3A%20false%7D%0A%20%20%20%20%20%20%20%20%20%20%20%20%29.addTo%28map_65f76d9bb5d74d468f8cca4159ff36e8%29%3B%0A%20%20%20%20%20%20%20%20%0A%20%20%20%20%0A%20%20%20%20%20%20%20%20%20%20%20%20var%20tile_layer_e8140fc3aa7540b6aa09f2497510d88e%20%3D%20L.tileLayer%28%0A%20%20%20%20%20%20%20%20%20%20%20%20%20%20%20%20%22https%3A//earthengine.googleapis.com/v1alpha/projects/earthengine-legacy/maps/b299effe29637401bc342905c0a65917-9142cc723dbe66695442bfb317fbe741/tiles/%7Bz%7D/%7Bx%7D/%7By%7D%22%2C%0A%20%20%20%20%20%20%20%20%20%20%20%20%20%20%20%20%7B%22attribution%22%3A%20%22Google%20Earth%20Engine%22%2C%20%22detectRetina%22%3A%20false%2C%20%22maxNativeZoom%22%3A%2018%2C%20%22maxZoom%22%3A%2018%2C%20%22minZoom%22%3A%200%2C%20%22noWrap%22%3A%20false%2C%20%22opacity%22%3A%201.0%2C%20%22subdomains%22%3A%20%22abc%22%2C%20%22tms%22%3A%20false%7D%0A%20%20%20%20%20%20%20%20%20%20%20%20%29.addTo%28map_65f76d9bb5d74d468f8cca4159ff36e8%29%3B%0A%20%20%20%20%20%20%20%20%0A%20%20%20%20%0A%20%20%20%20%20%20%20%20%20%20%20%20var%20tile_layer_82acff59fda5440bb943018d2d62da98%20%3D%20L.tileLayer%28%0A%20%20%20%20%20%20%20%20%20%20%20%20%20%20%20%20%22https%3A//earthengine.googleapis.com/v1alpha/projects/earthengine-legacy/maps/9065b051abd3c4905613a538553ec3da-ab2abb7b6b883a70a3c71a05abf3ed90/tiles/%7Bz%7D/%7Bx%7D/%7By%7D%22%2C%0A%20%20%20%20%20%20%20%20%20%20%20%20%20%20%20%20%7B%22attribution%22%3A%20%22Google%20Earth%20Engine%22%2C%20%22detectRetina%22%3A%20false%2C%20%22maxNativeZoom%22%3A%2018%2C%20%22maxZoom%22%3A%2018%2C%20%22minZoom%22%3A%200%2C%20%22noWrap%22%3A%20false%2C%20%22opacity%22%3A%201.0%2C%20%22subdomains%22%3A%20%22abc%22%2C%20%22tms%22%3A%20false%7D%0A%20%20%20%20%20%20%20%20%20%20%20%20%29.addTo%28map_65f76d9bb5d74d468f8cca4159ff36e8%29%3B%0A%20%20%20%20%20%20%20%20%0A%20%20%20%20%0A%20%20%20%20%20%20%20%20%20%20%20%20var%20tile_layer_b86c5f2afa9849d5bd4cd5e43be6988d%20%3D%20L.tileLayer%28%0A%20%20%20%20%20%20%20%20%20%20%20%20%20%20%20%20%22https%3A//earthengine.googleapis.com/v1alpha/projects/earthengine-legacy/maps/ebf6abd12a2259e843ec468d8235cc88-81ec6f61b5b28ce7a5bac675cbc8ea94/tiles/%7Bz%7D/%7Bx%7D/%7By%7D%22%2C%0A%20%20%20%20%20%20%20%20%20%20%20%20%20%20%20%20%7B%22attribution%22%3A%20%22Google%20Earth%20Engine%22%2C%20%22detectRetina%22%3A%20false%2C%20%22maxNativeZoom%22%3A%2018%2C%20%22maxZoom%22%3A%2018%2C%20%22minZoom%22%3A%200%2C%20%22noWrap%22%3A%20false%2C%20%22opacity%22%3A%201.0%2C%20%22subdomains%22%3A%20%22abc%22%2C%20%22tms%22%3A%20false%7D%0A%20%20%20%20%20%20%20%20%20%20%20%20%29.addTo%28map_65f76d9bb5d74d468f8cca4159ff36e8%29%3B%0A%20%20%20%20%20%20%20%20%0A%20%20%20%20%0A%20%20%20%20%20%20%20%20%20%20%20%20var%20tile_layer_d1d3c3b361874608bb1aa3f300b0683f%20%3D%20L.tileLayer%28%0A%20%20%20%20%20%20%20%20%20%20%20%20%20%20%20%20%22https%3A//earthengine.googleapis.com/v1alpha/projects/earthengine-legacy/maps/4d0e176eef05dfdfebf2827de855ceae-cb17366fc55d305c433086a26131e12d/tiles/%7Bz%7D/%7Bx%7D/%7By%7D%22%2C%0A%20%20%20%20%20%20%20%20%20%20%20%20%20%20%20%20%7B%22attribution%22%3A%20%22Google%20Earth%20Engine%22%2C%20%22detectRetina%22%3A%20false%2C%20%22maxNativeZoom%22%3A%2018%2C%20%22maxZoom%22%3A%2018%2C%20%22minZoom%22%3A%200%2C%20%22noWrap%22%3A%20false%2C%20%22opacity%22%3A%201.0%2C%20%22subdomains%22%3A%20%22abc%22%2C%20%22tms%22%3A%20false%7D%0A%20%20%20%20%20%20%20%20%20%20%20%20%29.addTo%28map_65f76d9bb5d74d468f8cca4159ff36e8%29%3B%0A%20%20%20%20%20%20%20%20%0A%20%20%20%20%0A%20%20%20%20%20%20%20%20%20%20%20%20var%20tile_layer_575c7c81757e4fd482b66117aff20bbc%20%3D%20L.tileLayer%28%0A%20%20%20%20%20%20%20%20%20%20%20%20%20%20%20%20%22https%3A//earthengine.googleapis.com/v1alpha/projects/earthengine-legacy/maps/5b5330078431b08abfd4ad3747f3842e-bcf11d84204d20350f9fd3c557ec965a/tiles/%7Bz%7D/%7Bx%7D/%7By%7D%22%2C%0A%20%20%20%20%20%20%20%20%20%20%20%20%20%20%20%20%7B%22attribution%22%3A%20%22Google%20Earth%20Engine%22%2C%20%22detectRetina%22%3A%20false%2C%20%22maxNativeZoom%22%3A%2018%2C%20%22maxZoom%22%3A%2018%2C%20%22minZoom%22%3A%200%2C%20%22noWrap%22%3A%20false%2C%20%22opacity%22%3A%201.0%2C%20%22subdomains%22%3A%20%22abc%22%2C%20%22tms%22%3A%20false%7D%0A%20%20%20%20%20%20%20%20%20%20%20%20%29.addTo%28map_65f76d9bb5d74d468f8cca4159ff36e8%29%3B%0A%20%20%20%20%20%20%20%20%0A%20%20%20%20%0A%20%20%20%20%20%20%20%20%20%20%20%20var%20tile_layer_7786d02f8f53499194f7260109d86036%20%3D%20L.tileLayer%28%0A%20%20%20%20%20%20%20%20%20%20%20%20%20%20%20%20%22https%3A//earthengine.googleapis.com/v1alpha/projects/earthengine-legacy/maps/7a301de5238fff8aba7ba5ada368f529-eb23215dcf6d0cf16da2713276c540dc/tiles/%7Bz%7D/%7Bx%7D/%7By%7D%22%2C%0A%20%20%20%20%20%20%20%20%20%20%20%20%20%20%20%20%7B%22attribution%22%3A%20%22Google%20Earth%20Engine%22%2C%20%22detectRetina%22%3A%20false%2C%20%22maxNativeZoom%22%3A%2018%2C%20%22maxZoom%22%3A%2018%2C%20%22minZoom%22%3A%200%2C%20%22noWrap%22%3A%20false%2C%20%22opacity%22%3A%201.0%2C%20%22subdomains%22%3A%20%22abc%22%2C%20%22tms%22%3A%20false%7D%0A%20%20%20%20%20%20%20%20%20%20%20%20%29.addTo%28map_65f76d9bb5d74d468f8cca4159ff36e8%29%3B%0A%20%20%20%20%20%20%20%20%0A%20%20%20%20%0A%20%20%20%20%20%20%20%20%20%20%20%20var%20tile_layer_989823e40f304ec0a22f2a8bc9ea8c1f%20%3D%20L.tileLayer%28%0A%20%20%20%20%20%20%20%20%20%20%20%20%20%20%20%20%22https%3A//earthengine.googleapis.com/v1alpha/projects/earthengine-legacy/maps/ed3c60bc0e12069c0114daced53cf5f7-3998edfecb1837c5f099d58374d0d974/tiles/%7Bz%7D/%7Bx%7D/%7By%7D%22%2C%0A%20%20%20%20%20%20%20%20%20%20%20%20%20%20%20%20%7B%22attribution%22%3A%20%22Google%20Earth%20Engine%22%2C%20%22detectRetina%22%3A%20false%2C%20%22maxNativeZoom%22%3A%2018%2C%20%22maxZoom%22%3A%2018%2C%20%22minZoom%22%3A%200%2C%20%22noWrap%22%3A%20false%2C%20%22opacity%22%3A%201.0%2C%20%22subdomains%22%3A%20%22abc%22%2C%20%22tms%22%3A%20false%7D%0A%20%20%20%20%20%20%20%20%20%20%20%20%29.addTo%28map_65f76d9bb5d74d468f8cca4159ff36e8%29%3B%0A%20%20%20%20%20%20%20%20%0A%20%20%20%20%0A%20%20%20%20%20%20%20%20%20%20%20%20var%20tile_layer_10d0ab6af6f54764944b27824d979718%20%3D%20L.tileLayer%28%0A%20%20%20%20%20%20%20%20%20%20%20%20%20%20%20%20%22https%3A//earthengine.googleapis.com/v1alpha/projects/earthengine-legacy/maps/1c85e5dc4c7f4971c24fbc806f2263dc-8aa1e3e33fef0442e760a3565d6297d4/tiles/%7Bz%7D/%7Bx%7D/%7By%7D%22%2C%0A%20%20%20%20%20%20%20%20%20%20%20%20%20%20%20%20%7B%22attribution%22%3A%20%22Google%20Earth%20Engine%22%2C%20%22detectRetina%22%3A%20false%2C%20%22maxNativeZoom%22%3A%2018%2C%20%22maxZoom%22%3A%2018%2C%20%22minZoom%22%3A%200%2C%20%22noWrap%22%3A%20false%2C%20%22opacity%22%3A%201.0%2C%20%22subdomains%22%3A%20%22abc%22%2C%20%22tms%22%3A%20false%7D%0A%20%20%20%20%20%20%20%20%20%20%20%20%29.addTo%28map_65f76d9bb5d74d468f8cca4159ff36e8%29%3B%0A%20%20%20%20%20%20%20%20%0A%20%20%20%20%0A%20%20%20%20%20%20%20%20%20%20%20%20var%20tile_layer_51d70b765108409b93777b1c6e6842a1%20%3D%20L.tileLayer%28%0A%20%20%20%20%20%20%20%20%20%20%20%20%20%20%20%20%22https%3A//earthengine.googleapis.com/v1alpha/projects/earthengine-legacy/maps/d6a8fe4c83bf5409186a5410bbb754a2-42496457578322544fecb74fc59998e8/tiles/%7Bz%7D/%7Bx%7D/%7By%7D%22%2C%0A%20%20%20%20%20%20%20%20%20%20%20%20%20%20%20%20%7B%22attribution%22%3A%20%22Google%20Earth%20Engine%22%2C%20%22detectRetina%22%3A%20false%2C%20%22maxNativeZoom%22%3A%2018%2C%20%22maxZoom%22%3A%2018%2C%20%22minZoom%22%3A%200%2C%20%22noWrap%22%3A%20false%2C%20%22opacity%22%3A%201.0%2C%20%22subdomains%22%3A%20%22abc%22%2C%20%22tms%22%3A%20false%7D%0A%20%20%20%20%20%20%20%20%20%20%20%20%29.addTo%28map_65f76d9bb5d74d468f8cca4159ff36e8%29%3B%0A%20%20%20%20%20%20%20%20%0A%20%20%20%20%0A%20%20%20%20%20%20%20%20%20%20%20%20var%20tile_layer_17447a54bf30459380fbca3289422211%20%3D%20L.tileLayer%28%0A%20%20%20%20%20%20%20%20%20%20%20%20%20%20%20%20%22https%3A//earthengine.googleapis.com/v1alpha/projects/earthengine-legacy/maps/14d82d38f327b4456dd54b0df0cfc3bd-4e22c0efb925a1fe641047b57ac590a0/tiles/%7Bz%7D/%7Bx%7D/%7By%7D%22%2C%0A%20%20%20%20%20%20%20%20%20%20%20%20%20%20%20%20%7B%22attribution%22%3A%20%22Google%20Earth%20Engine%22%2C%20%22detectRetina%22%3A%20false%2C%20%22maxNativeZoom%22%3A%2018%2C%20%22maxZoom%22%3A%2018%2C%20%22minZoom%22%3A%200%2C%20%22noWrap%22%3A%20false%2C%20%22opacity%22%3A%201.0%2C%20%22subdomains%22%3A%20%22abc%22%2C%20%22tms%22%3A%20false%7D%0A%20%20%20%20%20%20%20%20%20%20%20%20%29.addTo%28map_65f76d9bb5d74d468f8cca4159ff36e8%29%3B%0A%20%20%20%20%20%20%20%20%0A%20%20%20%20%0A%20%20%20%20%20%20%20%20%20%20%20%20var%20tile_layer_4142c509bbeb4ec68ca8734e2fcca31f%20%3D%20L.tileLayer%28%0A%20%20%20%20%20%20%20%20%20%20%20%20%20%20%20%20%22https%3A//earthengine.googleapis.com/v1alpha/projects/earthengine-legacy/maps/b3f017c06e2ad49a7313feb941544f69-04d24e2e3cdecb8f3af9912a0eea611a/tiles/%7Bz%7D/%7Bx%7D/%7By%7D%22%2C%0A%20%20%20%20%20%20%20%20%20%20%20%20%20%20%20%20%7B%22attribution%22%3A%20%22Google%20Earth%20Engine%22%2C%20%22detectRetina%22%3A%20false%2C%20%22maxNativeZoom%22%3A%2018%2C%20%22maxZoom%22%3A%2018%2C%20%22minZoom%22%3A%200%2C%20%22noWrap%22%3A%20false%2C%20%22opacity%22%3A%201.0%2C%20%22subdomains%22%3A%20%22abc%22%2C%20%22tms%22%3A%20false%7D%0A%20%20%20%20%20%20%20%20%20%20%20%20%29.addTo%28map_65f76d9bb5d74d468f8cca4159ff36e8%29%3B%0A%20%20%20%20%20%20%20%20%0A%20%20%20%20%0A%20%20%20%20%20%20%20%20%20%20%20%20var%20layer_control_f6df80ef383b4e52bffb4a242c3af2be%20%3D%20%7B%0A%20%20%20%20%20%20%20%20%20%20%20%20%20%20%20%20base_layers%20%3A%20%7B%0A%20%20%20%20%20%20%20%20%20%20%20%20%20%20%20%20%20%20%20%20%22openstreetmap%22%20%3A%20tile_layer_dd476115aa2f43879620d23c9d48ca30%2C%0A%20%20%20%20%20%20%20%20%20%20%20%20%20%20%20%20%7D%2C%0A%20%20%20%20%20%20%20%20%20%20%20%20%20%20%20%20overlays%20%3A%20%20%7B%0A%20%20%20%20%20%20%20%20%20%20%20%20%20%20%20%20%20%20%20%20%22class_89%22%20%3A%20tile_layer_e5d3bc9296f44dfd9bb3550a4d33b1c9%2C%0A%20%20%20%20%20%20%20%20%20%20%20%20%20%20%20%20%20%20%20%20%22class_94%22%20%3A%20tile_layer_e8140fc3aa7540b6aa09f2497510d88e%2C%0A%20%20%20%20%20%20%20%20%20%20%20%20%20%20%20%20%20%20%20%20%22class_95%22%20%3A%20tile_layer_82acff59fda5440bb943018d2d62da98%2C%0A%20%20%20%20%20%20%20%20%20%20%20%20%20%20%20%20%20%20%20%20%22class_98%22%20%3A%20tile_layer_b86c5f2afa9849d5bd4cd5e43be6988d%2C%0A%20%20%20%20%20%20%20%20%20%20%20%20%20%20%20%20%20%20%20%20%22class_99%22%20%3A%20tile_layer_d1d3c3b361874608bb1aa3f300b0683f%2C%0A%20%20%20%20%20%20%20%20%20%20%20%20%20%20%20%20%20%20%20%20%22class_14%22%20%3A%20tile_layer_575c7c81757e4fd482b66117aff20bbc%2C%0A%20%20%20%20%20%20%20%20%20%20%20%20%20%20%20%20%20%20%20%20%22class_15%22%20%3A%20tile_layer_7786d02f8f53499194f7260109d86036%2C%0A%20%20%20%20%20%20%20%20%20%20%20%20%20%20%20%20%20%20%20%20%22class_16%22%20%3A%20tile_layer_989823e40f304ec0a22f2a8bc9ea8c1f%2C%0A%20%20%20%20%20%20%20%20%20%20%20%20%20%20%20%20%20%20%20%20%22class_17%22%20%3A%20tile_layer_10d0ab6af6f54764944b27824d979718%2C%0A%20%20%20%20%20%20%20%20%20%20%20%20%20%20%20%20%20%20%20%20%22class_18%22%20%3A%20tile_layer_51d70b765108409b93777b1c6e6842a1%2C%0A%20%20%20%20%20%20%20%20%20%20%20%20%20%20%20%20%20%20%20%20%22class_19%22%20%3A%20tile_layer_17447a54bf30459380fbca3289422211%2C%0A%20%20%20%20%20%20%20%20%20%20%20%20%20%20%20%20%20%20%20%20%22class_20%22%20%3A%20tile_layer_4142c509bbeb4ec68ca8734e2fcca31f%2C%0A%20%20%20%20%20%20%20%20%20%20%20%20%20%20%20%20%7D%2C%0A%20%20%20%20%20%20%20%20%20%20%20%20%7D%3B%0A%20%20%20%20%20%20%20%20%20%20%20%20L.control.layers%28%0A%20%20%20%20%20%20%20%20%20%20%20%20%20%20%20%20layer_control_f6df80ef383b4e52bffb4a242c3af2be.base_layers%2C%0A%20%20%20%20%20%20%20%20%20%20%20%20%20%20%20%20layer_control_f6df80ef383b4e52bffb4a242c3af2be.overlays%2C%0A%20%20%20%20%20%20%20%20%20%20%20%20%20%20%20%20%7B%22autoZIndex%22%3A%20true%2C%20%22collapsed%22%3A%20true%2C%20%22position%22%3A%20%22topright%22%7D%0A%20%20%20%20%20%20%20%20%20%20%20%20%29.addTo%28map_65f76d9bb5d74d468f8cca4159ff36e8%29%3B%0A%20%20%20%20%20%20%20%20%0A%3C/script%3E onload=\"this.contentDocument.open();this.contentDocument.write(    decodeURIComponent(this.getAttribute('data-html')));this.contentDocument.close();\" allowfullscreen webkitallowfullscreen mozallowfullscreen></iframe></div></div>"
      ],
      "text/plain": [
       "<geemap.foliumap.Map at 0x255a72b7400>"
      ]
     },
     "execution_count": 85,
     "metadata": {},
     "output_type": "execute_result"
    }
   ],
   "source": [
    "# Making a class legend\n",
    "\n",
    "classes = ['Barren/Water', 'Sandy/Desert', 'Sparse Vegetation', 'Moderate Vegetation', 'Densest Vegetation']\n",
    "colors = ['#f7fcf5', '#c7e9c0', '#74c476', '#238b45', '#00441b']\n",
    "#class_legend_keys = ['Barren/Water', 'Sandy/Desert', 'Sparse Vegetation', 'Moderate Vegetation', 'Densest Vegetation']\n",
    "#class_legend_colors = ['#f7fcf5', '#c7e9c0', '#74c476', '#238b45', '#00441b']\n",
    "#TurkanaMap_class.add_legend(legend_keys=class_legend_keys, legend_colors=class_legend_colors, position='bottomleft')\n",
    "TurkanaMap_class.add_legend(title = \"NDVI Classes\", colors = colors, labels = classes)\n",
    "\n",
    "TurkanaMap_class"
   ]
  },
  {
   "cell_type": "code",
   "execution_count": 86,
   "id": "63700671",
   "metadata": {},
   "outputs": [
    {
     "name": "stderr",
     "output_type": "stream",
     "text": [
      "[\u001b[34m14:31:12\u001b[0m] [\u001b[33mWARNING\u001b[0m] Configuring datapane logging in library mode\u001b[0m\n",
      "[\u001b[34m14:31:12\u001b[0m] [\u001b[33mWARNING\u001b[0m] Reconfiguring datapane logger when running as LIBRARY\u001b[0m\n",
      "[\u001b[34m14:31:13\u001b[0m] [\u001b[36mDEBUG\u001b[0m] Saved object to C:\\Users\\daler\\AppData\\Local\\Temp\\dp-tmp-l14a4i_o\\dp-tmp-r0y6ahzj.fl.html (15008 bytes)\u001b[0m\n"
     ]
    },
    {
     "data": {
      "text/markdown": [
       "Uploading report and associated data - *please wait...*"
      ],
      "text/plain": [
       "<IPython.core.display.Markdown object>"
      ]
     },
     "metadata": {},
     "output_type": "display_data"
    },
    {
     "data": {
      "text/markdown": [
       "Your report only contains a single element - did you know you can include additional plots, tables and text in a single report? Check out [the docs](https://docs.datapane.com/reports/blocks/layout-pages-and-selects) for more info"
      ],
      "text/plain": [
       "<IPython.core.display.Markdown object>"
      ]
     },
     "metadata": {},
     "output_type": "display_data"
    },
    {
     "name": "stderr",
     "output_type": "stream",
     "text": [
      "[\u001b[34m14:31:13\u001b[0m] [\u001b[36mDEBUG\u001b[0m] Successfully Built Report\u001b[0m\n",
      "[\u001b[34m14:31:13\u001b[0m] [\u001b[36mDEBUG\u001b[0m] Report size ~0.0 MB\u001b[0m\n",
      "[\u001b[34m14:31:13\u001b[0m] [\u001b[36mDEBUG\u001b[0m] Removing C:\\Users\\daler\\AppData\\Local\\Temp\\dp-tmp-l14a4i_o\\dp-tmp-pcrimrkq.ipynb\u001b[0m\n",
      "[\u001b[34m14:31:13\u001b[0m] [\u001b[36mDEBUG\u001b[0m] Refreshed https://datapane.com/api/reports/wAw2Ook/\u001b[0m\n",
      "[\u001b[34m14:31:13\u001b[0m] [\u001b[36mDEBUG\u001b[0m] Proxying 'web_url' lookup to DTO\u001b[0m\n",
      "[\u001b[34m14:31:13\u001b[0m] [\u001b[36mDEBUG\u001b[0m] Proxying 'web_url' lookup to DTO\u001b[0m\n",
      "[\u001b[34m14:31:13\u001b[0m] [\u001b[36mDEBUG\u001b[0m] Proxying 'web_url' lookup to DTO\u001b[0m\n"
     ]
    },
    {
     "data": {
      "text/markdown": [
       "Report successfully uploaded, click [here](https://datapane.com/u/dalerobertelenteny/reports/wAw2Ook/unsupervised-ndvi-classification/) to view and share your report"
      ],
      "text/plain": [
       "<IPython.core.display.Markdown object>"
      ]
     },
     "metadata": {},
     "output_type": "display_data"
    }
   ],
   "source": [
    "dp.enable_logging()\n",
    "TurkanaMap_class.publish(name = 'Unsupervised NDVI Classification', description = 'All pixels placed into one of five classes by NDVI value')"
   ]
  }
 ],
 "metadata": {
  "kernelspec": {
   "display_name": "Python 3 (ipykernel)",
   "language": "python",
   "name": "python3"
  },
  "language_info": {
   "codemirror_mode": {
    "name": "ipython",
    "version": 3
   },
   "file_extension": ".py",
   "mimetype": "text/x-python",
   "name": "python",
   "nbconvert_exporter": "python",
   "pygments_lexer": "ipython3",
   "version": "3.9.6"
  }
 },
 "nbformat": 4,
 "nbformat_minor": 5
}
