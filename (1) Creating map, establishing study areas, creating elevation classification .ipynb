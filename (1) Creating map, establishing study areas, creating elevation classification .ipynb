{
 "cells": [
  {
   "cell_type": "code",
   "execution_count": 1,
   "id": "03ab4d9f",
   "metadata": {},
   "outputs": [],
   "source": [
    "#Saved variables: \n",
    "# highland_mask\n",
    "# lowland_mask \n",
    "# studyarea_geom\n",
    "# studyarea_ee\n",
    "# landsat4"
   ]
  },
  {
   "cell_type": "code",
   "execution_count": 2,
   "id": "4e8c40ad",
   "metadata": {},
   "outputs": [],
   "source": [
    "# Import modules\n",
    "import geemap\n",
    "import ee\n",
    "import os \n",
    "import geopandas"
   ]
  },
  {
   "cell_type": "code",
   "execution_count": 3,
   "id": "948dd092",
   "metadata": {
    "scrolled": true
   },
   "outputs": [
    {
     "data": {
      "application/vnd.jupyter.widget-view+json": {
       "model_id": "85f8ab9b8ed346439c0221405c6d2124",
       "version_major": 2,
       "version_minor": 0
      },
      "text/plain": [
       "Map(center=[3.1, 35.6], controls=(WidgetControl(options=['position', 'transparent_bg'], widget=HBox(children=(…"
      ]
     },
     "metadata": {},
     "output_type": "display_data"
    }
   ],
   "source": [
    "# Open the interactive map (this is a geemap attribute)\n",
    "# Instantiating the Esri Satellite basemap\n",
    "TurkanaMap = geemap.Map(center = [3.1, 35.6], zoom = 8) \n",
    "TurkanaMap.basemap_demo()\n",
    "TurkanaMap"
   ]
  },
  {
   "cell_type": "code",
   "execution_count": 4,
   "id": "27486e3c",
   "metadata": {},
   "outputs": [],
   "source": [
    "vis_params = {'bands': ['elevation', 'num', 'swb'], 'min': 900.0, 'max': 2200.0, 'opacity': 1.0, 'gamma': 1.0}"
   ]
  },
  {
   "cell_type": "code",
   "execution_count": 5,
   "id": "9dd0e0dc",
   "metadata": {},
   "outputs": [],
   "source": [
    "turkanabox_shp = \"C:/Users/daler/Desktop/Turkana Change Analysis/Imported Data/turkana_box.shp\"\n",
    "turkanabox_ee = geemap.shp_to_ee(turkanabox_shp)\n",
    "TurkanaMap.addLayer(turkanabox_ee, {}, \"turkanabox\")"
   ]
  },
  {
   "cell_type": "code",
   "execution_count": 6,
   "id": "b2cfebab",
   "metadata": {},
   "outputs": [],
   "source": [
    "# Setting visibility parameters for elevation masks \n",
    "# I made these through the layer manager then imported the snippet down here\n",
    "lowland_vis_params = {'bands': ['elevation'], 'palette': ['004529', ' 004629', ' 00472a', ' 00482a', ' 00492b', ' 004a2b', ' 004c2c', ' 004d2c', ' 004e2d', ' 004f2d', ' 00502d', ' 00512e', ' 00522e', ' 00532f', ' 00542f', ' 005530', ' 005730', ' 005830', ' 005931', ' 005a31', ' 005b32', ' 005c32', ' 005d33', ' 005e33', ' 005f34', ' 006034', ' 006234', ' 006335', ' 006435', ' 006536', ' 006636', ' 006737', ' 006837', ' 016937', ' 026a38', ' 036b38', ' 056c39', ' 066d39', ' 076d39', ' 086e3a', ' 096f3a', ' 0a703a', ' 0b713b', ' 0c723b', ' 0d733c', ' 0e743c', ' 10743c', ' 11753d', ' 12763d', ' 13773d', ' 14783e', ' 15793e', ' 167a3f', ' 177b3f', ' 187b3f', ' 197c40', ' 1a7d40', ' 1c7e40', ' 1d7f41', ' 1e8041', ' 1f8142', ' 208242', ' 218242', ' 228343', ' 238443', ' 248644', ' 258745', ' 268846', ' 278946', ' 288a47', ' 298c48', ' 2a8d49', ' 2b8e4a', ' 2c8f4b', ' 2d914b', ' 2e924c', ' 2f934d', ' 2f944e', ' 30954f', ' 31974f', ' 329850', ' 339951', ' 349a52', ' 359c53', ' 369d54', ' 379e54', ' 389f55', ' 39a056', ' 3aa257', ' 3ba358', ' 3ca458', ' 3da559', ' 3ea75a', ' 3fa85b', ' 3fa95c', ' 40aa5c', ' 42ab5d', ' 43ac5e', ' 45ad5f', ' 47ae60', ' 49af61', ' 4ab062', ' 4cb063', ' 4eb163', ' 4fb264', ' 51b365', ' 53b466', ' 55b567', ' 56b568', ' 58b669', ' 5ab76a', ' 5cb86b', ' 5db96b', ' 5fba6c', ' 61bb6d', ' 62bb6e', ' 64bc6f', ' 66bd70', ' 68be71', ' 69bf72', ' 6bc072', ' 6dc073', ' 6fc174', ' 70c275', ' 72c376', ' 74c477', ' 75c578', ' 77c679', ' 79c679', ' 7ac77a', ' 7cc87b', ' 7ec97b', ' 7fc97c', ' 81ca7d', ' 83cb7d', ' 84cb7e', ' 86cc7f', ' 88cd7f', ' 89ce80', ' 8bce81', ' 8dcf81', ' 8ed082', ' 90d083', ' 92d183', ' 93d284', ' 95d385', ' 97d385', ' 98d486', ' 9ad587', ' 9cd687', ' 9dd688', ' 9fd788', ' a1d889', ' a2d88a', ' a4d98a', ' a6da8b', ' a7db8c', ' a9db8c', ' abdc8d', ' acdd8e', ' aedd8e', ' afde8f', ' b1df90', ' b2df90', ' b3e091', ' b5e092', ' b6e192', ' b8e293', ' b9e294', ' bae394', ' bce395', ' bde496', ' bee596', ' c0e597', ' c1e698', ' c3e698', ' c4e799', ' c5e89a', ' c7e89a', ' c8e99b', ' c9e99c', ' cbea9c', ' ccea9d', ' ceeb9e', ' cfec9e', ' d0ec9f', ' d2eda0', ' d3eda0', ' d5eea1', ' d6efa2', ' d7efa2', ' d9f0a3', ' daf0a4', ' dbf1a4', ' dcf1a5', ' ddf1a6', ' ddf2a6', ' def2a7', ' dff3a8', ' e0f3a8', ' e1f3a9', ' e2f4aa', ' e3f4aa', ' e4f4ab', ' e5f5ac', ' e6f5ac', ' e7f6ad', ' e8f6ae', ' e9f6af', ' eaf7af', ' ebf7b0', ' ecf7b1', ' edf8b1', ' edf8b2', ' eef9b3', ' eff9b3', ' f0f9b4', ' f1fab5', ' f2fab5', ' f3fab6', ' f4fbb7', ' f5fbb8', ' f6fcb8', ' f7fcb9', ' f7fcba', ' f7fcbc', ' f8fcbd', ' f8fcbe', ' f8fcc0', ' f8fdc1', ' f9fdc2', ' f9fdc4', ' f9fdc5', ' f9fdc7', ' fafdc8', ' fafdc9', ' fafdcb', ' fafdcc', ' fbfdce', ' fbfdcf', ' fbfed0', ' fbfed2', ' fcfed3', ' fcfed4', ' fcfed6', ' fcfed7', ' fdfed9', ' fdfeda', ' fdfedb', ' fdfedd', ' feffde', ' feffdf', ' feffe1', ' feffe2', ' ffffe4', ' ffffe5'], 'min': 360.0, 'max': 900.0, 'opacity': 1.0}\n",
    "highland_vis_params = {'bands': ['elevation'], 'palette': ['ffff00', ' fffe00', ' fffd00', ' fffc00', ' fffb00', ' fffa00', ' fff900', ' fff800', ' fff700', ' fff600', ' fff500', ' fff400', ' fff300', ' fff200', ' fff100', ' fff000', ' ffef00', ' ffee00', ' ffed00', ' ffec00', ' ffeb00', ' ffea00', ' ffe900', ' ffe800', ' ffe700', ' ffe600', ' ffe500', ' ffe400', ' ffe300', ' ffe200', ' ffe100', ' ffe000', ' ffdf00', ' ffde00', ' ffdd00', ' ffdc00', ' ffdb00', ' ffda00', ' ffd900', ' ffd800', ' ffd700', ' ffd600', ' ffd500', ' ffd400', ' ffd300', ' ffd200', ' ffd100', ' ffd000', ' ffcf00', ' ffce00', ' ffcd00', ' ffcc00', ' ffcb00', ' ffca00', ' ffc900', ' ffc800', ' ffc700', ' ffc600', ' ffc500', ' ffc400', ' ffc300', ' ffc200', ' ffc100', ' ffc000', ' ffbf00', ' ffbe00', ' ffbd00', ' ffbc00', ' ffbb00', ' ffba00', ' ffb900', ' ffb800', ' ffb700', ' ffb600', ' ffb500', ' ffb400', ' ffb300', ' ffb200', ' ffb100', ' ffb000', ' ffaf00', ' ffae00', ' ffad00', ' ffac00', ' ffab00', ' ffaa00', ' ffa900', ' ffa800', ' ffa700', ' ffa600', ' ffa500', ' ffa400', ' ffa300', ' ffa200', ' ffa100', ' ffa000', ' ff9f00', ' ff9e00', ' ff9d00', ' ff9c00', ' ff9b00', ' ff9a00', ' ff9900', ' ff9800', ' ff9700', ' ff9600', ' ff9500', ' ff9400', ' ff9300', ' ff9200', ' ff9100', ' ff9000', ' ff8f00', ' ff8e00', ' ff8d00', ' ff8c00', ' ff8b00', ' ff8a00', ' ff8900', ' ff8800', ' ff8700', ' ff8600', ' ff8500', ' ff8400', ' ff8300', ' ff8200', ' ff8100', ' ff8000', ' ff7f00', ' ff7e00', ' ff7d00', ' ff7c00', ' ff7b00', ' ff7a00', ' ff7900', ' ff7800', ' ff7700', ' ff7600', ' ff7500', ' ff7400', ' ff7300', ' ff7200', ' ff7100', ' ff7000', ' ff6f00', ' ff6e00', ' ff6d00', ' ff6c00', ' ff6b00', ' ff6a00', ' ff6900', ' ff6800', ' ff6700', ' ff6600', ' ff6500', ' ff6400', ' ff6300', ' ff6200', ' ff6100', ' ff6000', ' ff5f00', ' ff5e00', ' ff5d00', ' ff5c00', ' ff5b00', ' ff5a00', ' ff5900', ' ff5800', ' ff5700', ' ff5600', ' ff5500', ' ff5400', ' ff5300', ' ff5200', ' ff5100', ' ff5000', ' ff4f00', ' ff4e00', ' ff4d00', ' ff4c00', ' ff4b00', ' ff4a00', ' ff4900', ' ff4800', ' ff4700', ' ff4600', ' ff4500', ' ff4400', ' ff4300', ' ff4200', ' ff4100', ' ff4000', ' ff3f00', ' ff3e00', ' ff3d00', ' ff3c00', ' ff3b00', ' ff3a00', ' ff3900', ' ff3800', ' ff3700', ' ff3600', ' ff3500', ' ff3400', ' ff3300', ' ff3200', ' ff3100', ' ff3000', ' ff2f00', ' ff2e00', ' ff2d00', ' ff2c00', ' ff2b00', ' ff2a00', ' ff2900', ' ff2800', ' ff2700', ' ff2600', ' ff2500', ' ff2400', ' ff2300', ' ff2200', ' ff2100', ' ff2000', ' ff1f00', ' ff1e00', ' ff1d00', ' ff1c00', ' ff1b00', ' ff1a00', ' ff1900', ' ff1800', ' ff1700', ' ff1600', ' ff1500', ' ff1400', ' ff1300', ' ff1200', ' ff1100', ' ff1000', ' ff0f00', ' ff0e00', ' ff0d00', ' ff0c00', ' ff0b00', ' ff0a00', ' ff0900', ' ff0800', ' ff0700', ' ff0600', ' ff0500', ' ff0400', ' ff0300', ' ff0200', ' ff0100', ' ff0000'], 'min': 900.0, 'max': 2200.0, 'opacity': 1.0}"
   ]
  },
  {
   "cell_type": "code",
   "execution_count": 7,
   "id": "40ab76b0",
   "metadata": {},
   "outputs": [],
   "source": [
    "# Import the study area shapefile \n",
    "# I could not find out how to clip this in GEE, so I imported the Turkana county shapefile to ArcGIS and did so there by drawing a new polygon named \"box\"\n",
    "studyarea_shp = (\"C:/Users/daler/Desktop/Turkana Change Analysis/Imported Data/studyarea_feature.shp\")\n",
    "studyarea_ee = geemap.shp_to_ee(studyarea_shp)\n",
    "TurkanaMap.addLayer(studyarea_ee, {}, \"Study Area\")\n",
    "\n",
    "# Create geometry from study area shapefile \n",
    "studyarea_geom = ee.Image.geometry(studyarea_ee)"
   ]
  },
  {
   "cell_type": "code",
   "execution_count": 8,
   "id": "d23fa219",
   "metadata": {},
   "outputs": [
    {
     "name": "stdout",
     "output_type": "stream",
     "text": [
      "Stored 'studyarea_geom' (Geometry)\n",
      "Stored 'studyarea_ee' (FeatureCollection)\n"
     ]
    }
   ],
   "source": [
    "%store studyarea_geom\n",
    "%store studyarea_ee"
   ]
  },
  {
   "cell_type": "code",
   "execution_count": 9,
   "id": "873e92f8",
   "metadata": {},
   "outputs": [],
   "source": [
    "# Importing DEM \n",
    "dem = ee.Image(\"NASA/NASADEM_HGT/001\")\n",
    "\n",
    "# Clip the DEM to the study area \n",
    "# Add visual parameters - I imported these from the layer manager\n",
    "# Success! \n",
    "dem_clip = dem.clip(studyarea_ee)\n",
    "TurkanaMap.addLayer(dem_clip, {'bands': ['elevation'], 'palette': ['4d004b', ' 7b0d77', ' 863696', ' 8b5daa', ' 8c83bd', ' 94a7cf', ' a9c4de', ' c6d9e9', ' e3eef5', ' f7fcfd'], 'min': 360.0, 'max': 2200.0, 'opacity': 1.0}, \"dem_clip\")\n",
    "\n",
    "# Creating elevation-based masks and adding them to map \n",
    "highland_mask = dem_clip.updateMask(dem_clip.gte(900))\n",
    "TurkanaMap.addLayer(highland_mask, highland_vis_params, \"highland_mask\")\n",
    "lowland_mask = dem_clip.updateMask(dem_clip.lte(900))\n",
    "TurkanaMap.addLayer(lowland_mask, lowland_vis_params, \"lowland_mask\")"
   ]
  },
  {
   "cell_type": "code",
   "execution_count": 10,
   "id": "30cc9390",
   "metadata": {},
   "outputs": [
    {
     "name": "stdout",
     "output_type": "stream",
     "text": [
      "Stored 'highland_mask' (Image)\n",
      "Stored 'lowland_mask' (Image)\n"
     ]
    }
   ],
   "source": [
    "%store highland_mask\n",
    "%store lowland_mask"
   ]
  },
  {
   "cell_type": "code",
   "execution_count": 11,
   "id": "b8f1a18b",
   "metadata": {},
   "outputs": [],
   "source": [
    "# Now I am going to import different layers\n",
    "# It would be nice if I could import it within the bounds of the study area, if not I hope I can clip it \n",
    "# Starting out with Landsat EVI, NDVI, and NDWI\n",
    "# These are composite images of 8 day averages for each index. Pixel values are based on most recent composite \n",
    "# I will need to pick specific images (based on cloud cover and season)\n",
    "# There is no cloud cover score in the metadata.. there might be a way to do the cloudiness score: https://developers.google.com/earth-engine/guides/landsat\n",
    "\n",
    "# Adding general Landsat 4 surface reflectance image collection\n",
    "landsat4 = ee.ImageCollection(\"LANDSAT/LT04/C01/T1_SR\")\n",
    "# 8.22.1982 - 12.14.1993\n",
    "\n",
    "evi = ee.ImageCollection(\"LANDSAT/LT04/C01/T1_8DAY_EVI\")\n",
    "#Date range: 8.21.1982 - 12.19.1993\n",
    "#Same for other indices \n",
    "\n",
    "ndvi = ee.ImageCollection(\"LANDSAT/LT04/C01/T1_8DAY_NDVI\")\n",
    "\n",
    "ndwi = ee.ImageCollection(\"LANDSAT/LT04/C01/T1_8DAY_NDWI\")\n",
    "\n",
    "# Add to map \n",
    "TurkanaMap.addLayer(landsat4, {}, \"landsat4\")\n",
    "TurkanaMap.addLayer(evi, {}, \"evi\")\n",
    "TurkanaMap.addLayer(ndvi, {}, \"ndvi\")\n",
    "TurkanaMap.addLayer(ndwi, {}, \"ndwi\")"
   ]
  },
  {
   "cell_type": "code",
   "execution_count": 12,
   "id": "e7be1b5c",
   "metadata": {},
   "outputs": [
    {
     "name": "stdout",
     "output_type": "stream",
     "text": [
      "Stored 'landsat4' (ImageCollection)\n"
     ]
    }
   ],
   "source": [
    "%store landsat4"
   ]
  },
  {
   "cell_type": "code",
   "execution_count": 13,
   "id": "ecebbd21",
   "metadata": {},
   "outputs": [
    {
     "data": {
      "application/vnd.jupyter.widget-view+json": {
       "model_id": "85f8ab9b8ed346439c0221405c6d2124",
       "version_major": 2,
       "version_minor": 0
      },
      "text/plain": [
       "Map(center=[3.1, 35.6], controls=(WidgetControl(options=['position', 'transparent_bg'], widget=HBox(children=(…"
      ]
     },
     "metadata": {},
     "output_type": "display_data"
    }
   ],
   "source": [
    "TurkanaMap"
   ]
  }
 ],
 "metadata": {
  "kernelspec": {
   "display_name": "Python 3 (ipykernel)",
   "language": "python",
   "name": "python3"
  },
  "language_info": {
   "codemirror_mode": {
    "name": "ipython",
    "version": 3
   },
   "file_extension": ".py",
   "mimetype": "text/x-python",
   "name": "python",
   "nbconvert_exporter": "python",
   "pygments_lexer": "ipython3",
   "version": "3.9.6"
  }
 },
 "nbformat": 4,
 "nbformat_minor": 5
}
